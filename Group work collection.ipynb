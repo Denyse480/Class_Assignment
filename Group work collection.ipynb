{
 "cells": [
  {
   "cell_type": "markdown",
   "metadata": {},
   "source": [
    "GROUP MEMBERS :"
   ]
  },
  {
   "cell_type": "markdown",
   "metadata": {},
   "source": [
    "1. YANKURIJE Denyse 21RP10635"
   ]
  },
  {
   "cell_type": "markdown",
   "metadata": {},
   "source": [
    "2.NIRINGIYIMANA Gilbert 21Rp08409"
   ]
  },
  {
   "cell_type": "markdown",
   "metadata": {},
   "source": [
    "3.IRAKOZE Adeline 21RP05260"
   ]
  },
  {
   "cell_type": "markdown",
   "metadata": {},
   "source": [
    "1.\tPizza Toppings: Write a loop that prompts the user to enter a series of pizza toppings until they enter a 'quit' value. As they enter each topping, print a message saying you’ll add that topping to their pizza. "
   ]
  },
  {
   "cell_type": "code",
   "execution_count": null,
   "metadata": {},
   "outputs": [],
   "source": [
    "while True:\n",
    "    topping = input(\"Enter a pizza topping (enter 'quit' to finish): \")\n",
    "    if topping.lower() == 'quit':\n",
    "        print(\"Quitting...\")\n",
    "        break\n",
    "    else:\n",
    "        print(\"Adding\", topping, \"to your pizza.\")\n"
   ]
  },
  {
   "cell_type": "markdown",
   "metadata": {},
   "source": [
    "2.\tMovie Tickets: A movie theatre charges different ticket prices depending on a person’s age. If a person is under the age of 3, the ticket is free; if they are between 3 and 12, the ticket is $10; and if they are over age 12, the ticket is $15. Write a loop in which you ask users their age, and then tell them the cost of their movie ticket."
   ]
  },
  {
   "cell_type": "code",
   "execution_count": null,
   "metadata": {},
   "outputs": [],
   "source": [
    "while True:\n",
    "    age = input(\"Please enter your age (enter 'quit' to exit): \")\n",
    "    \n",
    "    if age.lower() == 'quit':\n",
    "        print(\"Exiting...\")\n",
    "        break\n",
    "    \n",
    "    age = int(age)\n",
    "    \n",
    "    if age < 3:\n",
    "        print(\"Your ticket is free.\")\n",
    "    elif age >= 3 and age <= 12:\n",
    "        print(\"Your ticket costs $10.\")\n",
    "    else:\n",
    "        print(\"Your ticket costs $15.\")\n"
   ]
  },
  {
   "cell_type": "markdown",
   "metadata": {},
   "source": [
    "3.\tThree Exits: Write different versions of either Exercise 1 or 2 that do each of the following at least once:\n",
    "\tUse a conditional test in the while statement to stop the loop.\n",
    "\t Use an active variable to control how long the loop runs.\n",
    "\tUse a break statement to exit the loop when the user enters a 'quit' value.\n"
   ]
  },
  {
   "cell_type": "code",
   "execution_count": null,
   "metadata": {},
   "outputs": [],
   "source": [
    "\n",
    "pizza_topping=[]\n",
    "while True:\n",
    "    \n",
    "    top=input(\"please enter your choice\")\n",
    "    if top==\"quit\":\n",
    "        break\n",
    "    print(f\"Adding {top} to your pizza!\")\n",
    "    for top in pizza_topping:\n",
    "        print(pizza_topping.append(top),\"top is added\")\n",
    "\n",
    "#question2\n",
    "while True:\n",
    "    age = input(\"please enter your age\")\n",
    "    if age == 'quit':\n",
    "        break\n",
    "    ages = int(age)\n",
    "\n",
    "    if ages <= 3:\n",
    "        print(f\"age is {ages}years, fee is free ticket\")\n",
    "     \n",
    "    elif ages > 3 and ages<=13:\n",
    "        print(f\"age is {ages}years, fee is $10\")\n",
    "    else:\n",
    "        print(f\"age is {ages}years, fee is $15\")\n"
   ]
  },
  {
   "cell_type": "markdown",
   "metadata": {},
   "source": [
    "\n",
    "4.\tInfinity: Write a loop that never ends, and run it. (To end the loop, press CTRL-C or close the window displaying the output.) \n"
   ]
  },
  {
   "cell_type": "code",
   "execution_count": null,
   "metadata": {},
   "outputs": [],
   "source": [
    "while True:\n",
    "    print(\"welcome\") #this loop will never end until you press CTRL-C to exit\n"
   ]
  },
  {
   "cell_type": "markdown",
   "metadata": {},
   "source": [
    "5.\tMake a list called sandwich_orders and fill it with the names of various sandwiches. Then make an empty list called finished_sandwiches. Loop through the list of sandwich orders and print a message for each order, such as I made your tuna sandwich. As each sandwich is made, move it to the list of finished sandwiches. After all the sandwiches have been made, print a message listing each sandwich that was made."
   ]
  },
  {
   "cell_type": "code",
   "execution_count": null,
   "metadata": {},
   "outputs": [],
   "source": [
    "# List of sandwich orders\n",
    "sandwich_orders = ['tuna', 'chicken', 'ham', 'vegetarian']\n",
    "\n",
    "# Empty list to store finished sandwiches\n",
    "finished_sandwiches = []\n",
    "\n",
    "# Loop through each sandwich order\n",
    "for sandwich in sandwich_orders:\n",
    "    print(\"I made your\", sandwich, \"sandwich.\")\n",
    "    # Move the made sandwich to the finished sandwiches list\n",
    "    finished_sandwiches.append(sandwich)\n",
    "\n",
    "# Print a message listing each sandwich that was made\n",
    "print(\"\\nList of finished sandwiches:\")\n",
    "for sandwich in finished_sandwiches:\n",
    "    print(sandwich.capitalize())\n"
   ]
  }
 ],
 "metadata": {
  "language_info": {
   "name": "python"
  }
 },
 "nbformat": 4,
 "nbformat_minor": 2
}
